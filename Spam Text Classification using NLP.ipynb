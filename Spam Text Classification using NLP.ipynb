{
 "cells": [
  {
   "cell_type": "markdown",
   "id": "5291445e",
   "metadata": {},
   "source": [
    "### Loading and installing packages"
   ]
  },
  {
   "cell_type": "code",
   "execution_count": 271,
   "id": "65ebc662",
   "metadata": {},
   "outputs": [
    {
     "name": "stdout",
     "output_type": "stream",
     "text": [
      "2.9.1\n"
     ]
    }
   ],
   "source": [
    "import numpy as np\n",
    "import pandas as pd\n",
    "from tensorflow.keras.preprocessing.text import Tokenizer\n",
    "from tensorflow.keras.preprocessing.sequence import pad_sequences\n",
    "import tensorflow\n",
    "print(tensorflow.__version__)\n",
    "from tensorflow.keras import Sequential\n",
    "from tensorflow.keras.layers import Dense\n",
    "from sklearn.model_selection import train_test_split\n",
    "import seaborn as sns\n",
    "import tensorflow as tf\n",
    "from tensorflow.keras import layers\n",
    "from tensorflow.keras.layers import BatchNormalization\n",
    "import matplotlib.pyplot as plt\n",
    "from sklearn.metrics import classification_report\n",
    "from sklearn.metrics import confusion_matrix"
   ]
  },
  {
   "cell_type": "code",
   "execution_count": 272,
   "id": "aa7ca432",
   "metadata": {},
   "outputs": [
    {
     "data": {
      "text/html": [
       "<div>\n",
       "<style scoped>\n",
       "    .dataframe tbody tr th:only-of-type {\n",
       "        vertical-align: middle;\n",
       "    }\n",
       "\n",
       "    .dataframe tbody tr th {\n",
       "        vertical-align: top;\n",
       "    }\n",
       "\n",
       "    .dataframe thead th {\n",
       "        text-align: right;\n",
       "    }\n",
       "</style>\n",
       "<table border=\"1\" class=\"dataframe\">\n",
       "  <thead>\n",
       "    <tr style=\"text-align: right;\">\n",
       "      <th></th>\n",
       "      <th>Category</th>\n",
       "      <th>Message</th>\n",
       "    </tr>\n",
       "  </thead>\n",
       "  <tbody>\n",
       "    <tr>\n",
       "      <th>0</th>\n",
       "      <td>ham</td>\n",
       "      <td>Go until jurong point, crazy.. Available only ...</td>\n",
       "    </tr>\n",
       "    <tr>\n",
       "      <th>1</th>\n",
       "      <td>ham</td>\n",
       "      <td>Ok lar... Joking wif u oni...</td>\n",
       "    </tr>\n",
       "    <tr>\n",
       "      <th>2</th>\n",
       "      <td>spam</td>\n",
       "      <td>Free entry in 2 a wkly comp to win FA Cup fina...</td>\n",
       "    </tr>\n",
       "    <tr>\n",
       "      <th>3</th>\n",
       "      <td>ham</td>\n",
       "      <td>U dun say so early hor... U c already then say...</td>\n",
       "    </tr>\n",
       "    <tr>\n",
       "      <th>4</th>\n",
       "      <td>ham</td>\n",
       "      <td>Nah I don't think he goes to usf, he lives aro...</td>\n",
       "    </tr>\n",
       "    <tr>\n",
       "      <th>...</th>\n",
       "      <td>...</td>\n",
       "      <td>...</td>\n",
       "    </tr>\n",
       "    <tr>\n",
       "      <th>5567</th>\n",
       "      <td>spam</td>\n",
       "      <td>This is the 2nd time we have tried 2 contact u...</td>\n",
       "    </tr>\n",
       "    <tr>\n",
       "      <th>5568</th>\n",
       "      <td>ham</td>\n",
       "      <td>Will ü b going to esplanade fr home?</td>\n",
       "    </tr>\n",
       "    <tr>\n",
       "      <th>5569</th>\n",
       "      <td>ham</td>\n",
       "      <td>Pity, * was in mood for that. So...any other s...</td>\n",
       "    </tr>\n",
       "    <tr>\n",
       "      <th>5570</th>\n",
       "      <td>ham</td>\n",
       "      <td>The guy did some bitching but I acted like i'd...</td>\n",
       "    </tr>\n",
       "    <tr>\n",
       "      <th>5571</th>\n",
       "      <td>ham</td>\n",
       "      <td>Rofl. Its true to its name</td>\n",
       "    </tr>\n",
       "  </tbody>\n",
       "</table>\n",
       "<p>5572 rows × 2 columns</p>\n",
       "</div>"
      ],
      "text/plain": [
       "     Category                                            Message\n",
       "0         ham  Go until jurong point, crazy.. Available only ...\n",
       "1         ham                      Ok lar... Joking wif u oni...\n",
       "2        spam  Free entry in 2 a wkly comp to win FA Cup fina...\n",
       "3         ham  U dun say so early hor... U c already then say...\n",
       "4         ham  Nah I don't think he goes to usf, he lives aro...\n",
       "...       ...                                                ...\n",
       "5567     spam  This is the 2nd time we have tried 2 contact u...\n",
       "5568      ham               Will ü b going to esplanade fr home?\n",
       "5569      ham  Pity, * was in mood for that. So...any other s...\n",
       "5570      ham  The guy did some bitching but I acted like i'd...\n",
       "5571      ham                         Rofl. Its true to its name\n",
       "\n",
       "[5572 rows x 2 columns]"
      ]
     },
     "execution_count": 272,
     "metadata": {},
     "output_type": "execute_result"
    }
   ],
   "source": [
    "data = pd.read_csv(\"data.csv\")\n",
    "data"
   ]
  },
  {
   "cell_type": "code",
   "execution_count": 273,
   "id": "e1dddae5",
   "metadata": {},
   "outputs": [
    {
     "data": {
      "text/plain": [
       "ham     4825\n",
       "spam     747\n",
       "Name: Category, dtype: int64"
      ]
     },
     "execution_count": 273,
     "metadata": {},
     "output_type": "execute_result"
    }
   ],
   "source": [
    "data[\"Category\"].value_counts()"
   ]
  },
  {
   "cell_type": "code",
   "execution_count": 274,
   "id": "65c588db",
   "metadata": {},
   "outputs": [
    {
     "data": {
      "text/html": [
       "<div>\n",
       "<style scoped>\n",
       "    .dataframe tbody tr th:only-of-type {\n",
       "        vertical-align: middle;\n",
       "    }\n",
       "\n",
       "    .dataframe tbody tr th {\n",
       "        vertical-align: top;\n",
       "    }\n",
       "\n",
       "    .dataframe thead th {\n",
       "        text-align: right;\n",
       "    }\n",
       "</style>\n",
       "<table border=\"1\" class=\"dataframe\">\n",
       "  <thead>\n",
       "    <tr style=\"text-align: right;\">\n",
       "      <th></th>\n",
       "      <th>Category</th>\n",
       "      <th>Message</th>\n",
       "    </tr>\n",
       "  </thead>\n",
       "  <tbody>\n",
       "    <tr>\n",
       "      <th>2</th>\n",
       "      <td>spam</td>\n",
       "      <td>Free entry in 2 a wkly comp to win FA Cup fina...</td>\n",
       "    </tr>\n",
       "    <tr>\n",
       "      <th>5</th>\n",
       "      <td>spam</td>\n",
       "      <td>FreeMsg Hey there darling it's been 3 week's n...</td>\n",
       "    </tr>\n",
       "    <tr>\n",
       "      <th>8</th>\n",
       "      <td>spam</td>\n",
       "      <td>WINNER!! As a valued network customer you have...</td>\n",
       "    </tr>\n",
       "    <tr>\n",
       "      <th>9</th>\n",
       "      <td>spam</td>\n",
       "      <td>Had your mobile 11 months or more? U R entitle...</td>\n",
       "    </tr>\n",
       "    <tr>\n",
       "      <th>11</th>\n",
       "      <td>spam</td>\n",
       "      <td>SIX chances to win CASH! From 100 to 20,000 po...</td>\n",
       "    </tr>\n",
       "    <tr>\n",
       "      <th>...</th>\n",
       "      <td>...</td>\n",
       "      <td>...</td>\n",
       "    </tr>\n",
       "    <tr>\n",
       "      <th>5537</th>\n",
       "      <td>spam</td>\n",
       "      <td>Want explicit SEX in 30 secs? Ring 02073162414...</td>\n",
       "    </tr>\n",
       "    <tr>\n",
       "      <th>5540</th>\n",
       "      <td>spam</td>\n",
       "      <td>ASKED 3MOBILE IF 0870 CHATLINES INCLU IN FREE ...</td>\n",
       "    </tr>\n",
       "    <tr>\n",
       "      <th>5547</th>\n",
       "      <td>spam</td>\n",
       "      <td>Had your contract mobile 11 Mnths? Latest Moto...</td>\n",
       "    </tr>\n",
       "    <tr>\n",
       "      <th>5566</th>\n",
       "      <td>spam</td>\n",
       "      <td>REMINDER FROM O2: To get 2.50 pounds free call...</td>\n",
       "    </tr>\n",
       "    <tr>\n",
       "      <th>5567</th>\n",
       "      <td>spam</td>\n",
       "      <td>This is the 2nd time we have tried 2 contact u...</td>\n",
       "    </tr>\n",
       "  </tbody>\n",
       "</table>\n",
       "<p>747 rows × 2 columns</p>\n",
       "</div>"
      ],
      "text/plain": [
       "     Category                                            Message\n",
       "2        spam  Free entry in 2 a wkly comp to win FA Cup fina...\n",
       "5        spam  FreeMsg Hey there darling it's been 3 week's n...\n",
       "8        spam  WINNER!! As a valued network customer you have...\n",
       "9        spam  Had your mobile 11 months or more? U R entitle...\n",
       "11       spam  SIX chances to win CASH! From 100 to 20,000 po...\n",
       "...       ...                                                ...\n",
       "5537     spam  Want explicit SEX in 30 secs? Ring 02073162414...\n",
       "5540     spam  ASKED 3MOBILE IF 0870 CHATLINES INCLU IN FREE ...\n",
       "5547     spam  Had your contract mobile 11 Mnths? Latest Moto...\n",
       "5566     spam  REMINDER FROM O2: To get 2.50 pounds free call...\n",
       "5567     spam  This is the 2nd time we have tried 2 contact u...\n",
       "\n",
       "[747 rows x 2 columns]"
      ]
     },
     "execution_count": 274,
     "metadata": {},
     "output_type": "execute_result"
    }
   ],
   "source": [
    "data.loc[data['Category'] == 'spam']"
   ]
  },
  {
   "cell_type": "markdown",
   "id": "5fd8fa40",
   "metadata": {},
   "source": [
    "#### Checking null "
   ]
  },
  {
   "cell_type": "code",
   "execution_count": 275,
   "id": "87fb47b0",
   "metadata": {},
   "outputs": [
    {
     "data": {
      "text/plain": [
       "Category    0\n",
       "Message     0\n",
       "dtype: int64"
      ]
     },
     "execution_count": 275,
     "metadata": {},
     "output_type": "execute_result"
    }
   ],
   "source": [
    "data.isnull().sum()"
   ]
  },
  {
   "cell_type": "markdown",
   "id": "e5ea605b",
   "metadata": {},
   "source": [
    "### Data pre-processing with visualization"
   ]
  },
  {
   "cell_type": "code",
   "execution_count": 276,
   "id": "5323af88",
   "metadata": {},
   "outputs": [],
   "source": [
    "def text_cleaning(texts):\n",
    "    #Lowercasing the texts\n",
    "    clean = texts.apply(lambda x: \" \".join(x.lower() for x in x.split()))\n",
    "    \n",
    "    #Removing contractions\n",
    "    clean = clean.str.replace(\"'\",' ')\n",
    "    \n",
    "    #Removing special characters\n",
    "    clean = clean.str.replace(\"@[A-Za-z0-9_]+\",' ')\n",
    "    clean = clean.str.replace(\"#[A-Za-z0-9_]+\",' ')\n",
    "    \n",
    "    #Removing links\n",
    "    clean = clean.str.replace(r'http\\S+',' ')\n",
    "    \n",
    "    #Removing punctuations\n",
    "    #clean = clean.str.replace(\".\",' ')\n",
    "    clean = clean.str.replace('[()!?]',' ')\n",
    "    clean = clean.str.replace('\\[.*?\\]',' ')\n",
    "    \n",
    "    #Filtering non-alphanumeric\n",
    "    clean = clean.str.replace(\"[^a-z0-9]\",' ')\n",
    "    \n",
    "    # Removing stopwords\n",
    "    from nltk.corpus import stopwords\n",
    "    stop = stopwords.words('english')\n",
    "    clean = clean.apply(lambda x: \" \".join(x for x in x.split() if x not in stop))\n",
    "                       \n",
    "    return clean"
   ]
  },
  {
   "cell_type": "code",
   "execution_count": 277,
   "id": "4115c081",
   "metadata": {},
   "outputs": [
    {
     "name": "stderr",
     "output_type": "stream",
     "text": [
      "<ipython-input-276-68e0908992e9>:9: FutureWarning: The default value of regex will change from True to False in a future version.\n",
      "  clean = clean.str.replace(\"@[A-Za-z0-9_]+\",' ')\n",
      "<ipython-input-276-68e0908992e9>:10: FutureWarning: The default value of regex will change from True to False in a future version.\n",
      "  clean = clean.str.replace(\"#[A-Za-z0-9_]+\",' ')\n",
      "<ipython-input-276-68e0908992e9>:13: FutureWarning: The default value of regex will change from True to False in a future version.\n",
      "  clean = clean.str.replace(r'http\\S+',' ')\n",
      "<ipython-input-276-68e0908992e9>:17: FutureWarning: The default value of regex will change from True to False in a future version.\n",
      "  clean = clean.str.replace('[()!?]',' ')\n",
      "<ipython-input-276-68e0908992e9>:18: FutureWarning: The default value of regex will change from True to False in a future version.\n",
      "  clean = clean.str.replace('\\[.*?\\]',' ')\n",
      "<ipython-input-276-68e0908992e9>:21: FutureWarning: The default value of regex will change from True to False in a future version.\n",
      "  clean = clean.str.replace(\"[^a-z0-9]\",' ')\n"
     ]
    }
   ],
   "source": [
    "data['Cleaned_message'] = text_cleaning(data['Message'])"
   ]
  },
  {
   "cell_type": "code",
   "execution_count": 278,
   "id": "c30d4a9c",
   "metadata": {},
   "outputs": [],
   "source": [
    "#Dropping duplicated\n",
    "data = data.drop_duplicates()\n",
    "# Re-indexing\n",
    "data = data.reset_index(drop=True)"
   ]
  },
  {
   "cell_type": "code",
   "execution_count": 279,
   "id": "bb8844d1",
   "metadata": {},
   "outputs": [
    {
     "data": {
      "text/html": [
       "<div>\n",
       "<style scoped>\n",
       "    .dataframe tbody tr th:only-of-type {\n",
       "        vertical-align: middle;\n",
       "    }\n",
       "\n",
       "    .dataframe tbody tr th {\n",
       "        vertical-align: top;\n",
       "    }\n",
       "\n",
       "    .dataframe thead th {\n",
       "        text-align: right;\n",
       "    }\n",
       "</style>\n",
       "<table border=\"1\" class=\"dataframe\">\n",
       "  <thead>\n",
       "    <tr style=\"text-align: right;\">\n",
       "      <th></th>\n",
       "      <th>Category</th>\n",
       "      <th>Message</th>\n",
       "      <th>Cleaned_message</th>\n",
       "    </tr>\n",
       "  </thead>\n",
       "  <tbody>\n",
       "    <tr>\n",
       "      <th>0</th>\n",
       "      <td>ham</td>\n",
       "      <td>Go until jurong point, crazy.. Available only ...</td>\n",
       "      <td>go jurong point crazy available bugis n great ...</td>\n",
       "    </tr>\n",
       "    <tr>\n",
       "      <th>1</th>\n",
       "      <td>ham</td>\n",
       "      <td>Ok lar... Joking wif u oni...</td>\n",
       "      <td>ok lar joking wif u oni</td>\n",
       "    </tr>\n",
       "    <tr>\n",
       "      <th>2</th>\n",
       "      <td>spam</td>\n",
       "      <td>Free entry in 2 a wkly comp to win FA Cup fina...</td>\n",
       "      <td>free entry 2 wkly comp win fa cup final tkts 2...</td>\n",
       "    </tr>\n",
       "    <tr>\n",
       "      <th>3</th>\n",
       "      <td>ham</td>\n",
       "      <td>U dun say so early hor... U c already then say...</td>\n",
       "      <td>u dun say early hor u c already say</td>\n",
       "    </tr>\n",
       "    <tr>\n",
       "      <th>4</th>\n",
       "      <td>ham</td>\n",
       "      <td>Nah I don't think he goes to usf, he lives aro...</td>\n",
       "      <td>nah think goes usf lives around though</td>\n",
       "    </tr>\n",
       "    <tr>\n",
       "      <th>...</th>\n",
       "      <td>...</td>\n",
       "      <td>...</td>\n",
       "      <td>...</td>\n",
       "    </tr>\n",
       "    <tr>\n",
       "      <th>5152</th>\n",
       "      <td>spam</td>\n",
       "      <td>This is the 2nd time we have tried 2 contact u...</td>\n",
       "      <td>2nd time tried 2 contact u u 750 pound prize 2...</td>\n",
       "    </tr>\n",
       "    <tr>\n",
       "      <th>5153</th>\n",
       "      <td>ham</td>\n",
       "      <td>Will ü b going to esplanade fr home?</td>\n",
       "      <td>b going esplanade fr home</td>\n",
       "    </tr>\n",
       "    <tr>\n",
       "      <th>5154</th>\n",
       "      <td>ham</td>\n",
       "      <td>Pity, * was in mood for that. So...any other s...</td>\n",
       "      <td>pity mood suggestions</td>\n",
       "    </tr>\n",
       "    <tr>\n",
       "      <th>5155</th>\n",
       "      <td>ham</td>\n",
       "      <td>The guy did some bitching but I acted like i'd...</td>\n",
       "      <td>guy bitching acted like interested buying some...</td>\n",
       "    </tr>\n",
       "    <tr>\n",
       "      <th>5156</th>\n",
       "      <td>ham</td>\n",
       "      <td>Rofl. Its true to its name</td>\n",
       "      <td>rofl true name</td>\n",
       "    </tr>\n",
       "  </tbody>\n",
       "</table>\n",
       "<p>5157 rows × 3 columns</p>\n",
       "</div>"
      ],
      "text/plain": [
       "     Category                                            Message  \\\n",
       "0         ham  Go until jurong point, crazy.. Available only ...   \n",
       "1         ham                      Ok lar... Joking wif u oni...   \n",
       "2        spam  Free entry in 2 a wkly comp to win FA Cup fina...   \n",
       "3         ham  U dun say so early hor... U c already then say...   \n",
       "4         ham  Nah I don't think he goes to usf, he lives aro...   \n",
       "...       ...                                                ...   \n",
       "5152     spam  This is the 2nd time we have tried 2 contact u...   \n",
       "5153      ham               Will ü b going to esplanade fr home?   \n",
       "5154      ham  Pity, * was in mood for that. So...any other s...   \n",
       "5155      ham  The guy did some bitching but I acted like i'd...   \n",
       "5156      ham                         Rofl. Its true to its name   \n",
       "\n",
       "                                        Cleaned_message  \n",
       "0     go jurong point crazy available bugis n great ...  \n",
       "1                               ok lar joking wif u oni  \n",
       "2     free entry 2 wkly comp win fa cup final tkts 2...  \n",
       "3                   u dun say early hor u c already say  \n",
       "4                nah think goes usf lives around though  \n",
       "...                                                 ...  \n",
       "5152  2nd time tried 2 contact u u 750 pound prize 2...  \n",
       "5153                          b going esplanade fr home  \n",
       "5154                              pity mood suggestions  \n",
       "5155  guy bitching acted like interested buying some...  \n",
       "5156                                     rofl true name  \n",
       "\n",
       "[5157 rows x 3 columns]"
      ]
     },
     "execution_count": 279,
     "metadata": {},
     "output_type": "execute_result"
    }
   ],
   "source": [
    "data"
   ]
  },
  {
   "cell_type": "markdown",
   "id": "72a6ea14",
   "metadata": {},
   "source": [
    "#### Balancing with upsampling"
   ]
  },
  {
   "cell_type": "code",
   "execution_count": 280,
   "id": "cdb7782b",
   "metadata": {},
   "outputs": [
    {
     "name": "stderr",
     "output_type": "stream",
     "text": [
      "C:\\Users\\elee0\\anaconda3\\lib\\site-packages\\seaborn\\_decorators.py:36: FutureWarning: Pass the following variable as a keyword arg: x. From version 0.12, the only valid positional argument will be `data`, and passing other arguments without an explicit keyword will result in an error or misinterpretation.\n",
      "  warnings.warn(\n"
     ]
    },
    {
     "data": {
      "text/plain": [
       "<AxesSubplot:xlabel='Category', ylabel='count'>"
      ]
     },
     "execution_count": 280,
     "metadata": {},
     "output_type": "execute_result"
    },
    {
     "data": {
      "image/png": "[encoded data removed]",
      "text/plain": [
       "<Figure size 576x432 with 1 Axes>"
      ]
     },
     "metadata": {
      "needs_background": "light"
     },
     "output_type": "display_data"
    }
   ],
   "source": [
    "# Current value counts on ham vs spam\n",
    "plt.figure(figsize=(8,6))\n",
    "sns.countplot(data['Category'])"
   ]
  },
  {
   "cell_type": "code",
   "execution_count": 281,
   "id": "ef01f5bd",
   "metadata": {},
   "outputs": [],
   "source": [
    "from imblearn.over_sampling import RandomOverSampler"
   ]
  },
  {
   "cell_type": "code",
   "execution_count": 314,
   "id": "fc958bd2",
   "metadata": {},
   "outputs": [],
   "source": [
    "# balancing with over sampler\n",
    "ros = RandomOverSampler()\n",
    "X = data['Cleaned_message'].values.reshape(-1,1)\n",
    "\n",
    "# Label encoding\n",
    "data['Category'] = data.Category.map({'ham':0, 'spam':1})\n",
    "Y = data['Category'].values.reshape(-1,1)\n",
    "\n",
    "# resampling X, y\n",
    "X_ros, y_ros = ros.fit_resample(X, Y)\n",
    "\n",
    "# assigning to A5\n",
    "data_OS = pd.concat([pd.DataFrame(X_ros),pd.DataFrame(y_ros)],axis=1)\n",
    "data_OS.columns = ['Cleaned_message','Category']"
   ]
  },
  {
   "cell_type": "code",
   "execution_count": 317,
   "id": "f5a497f5",
   "metadata": {},
   "outputs": [
    {
     "data": {
      "text/html": [
       "<div>\n",
       "<style scoped>\n",
       "    .dataframe tbody tr th:only-of-type {\n",
       "        vertical-align: middle;\n",
       "    }\n",
       "\n",
       "    .dataframe tbody tr th {\n",
       "        vertical-align: top;\n",
       "    }\n",
       "\n",
       "    .dataframe thead th {\n",
       "        text-align: right;\n",
       "    }\n",
       "</style>\n",
       "<table border=\"1\" class=\"dataframe\">\n",
       "  <thead>\n",
       "    <tr style=\"text-align: right;\">\n",
       "      <th></th>\n",
       "      <th>Cleaned_message</th>\n",
       "      <th>Category</th>\n",
       "    </tr>\n",
       "  </thead>\n",
       "  <tbody>\n",
       "    <tr>\n",
       "      <th>0</th>\n",
       "      <td>go jurong point crazy available bugis n great ...</td>\n",
       "      <td>0</td>\n",
       "    </tr>\n",
       "    <tr>\n",
       "      <th>1</th>\n",
       "      <td>ok lar joking wif u oni</td>\n",
       "      <td>0</td>\n",
       "    </tr>\n",
       "    <tr>\n",
       "      <th>2</th>\n",
       "      <td>free entry 2 wkly comp win fa cup final tkts 2...</td>\n",
       "      <td>1</td>\n",
       "    </tr>\n",
       "    <tr>\n",
       "      <th>3</th>\n",
       "      <td>u dun say early hor u c already say</td>\n",
       "      <td>0</td>\n",
       "    </tr>\n",
       "    <tr>\n",
       "      <th>4</th>\n",
       "      <td>nah think goes usf lives around though</td>\n",
       "      <td>0</td>\n",
       "    </tr>\n",
       "    <tr>\n",
       "      <th>...</th>\n",
       "      <td>...</td>\n",
       "      <td>...</td>\n",
       "    </tr>\n",
       "    <tr>\n",
       "      <th>9027</th>\n",
       "      <td>18 days euro2004 kickoff u kept informed lates...</td>\n",
       "      <td>1</td>\n",
       "    </tr>\n",
       "    <tr>\n",
       "      <th>9028</th>\n",
       "      <td>urgent 1 week free membership 100 000 prize ja...</td>\n",
       "      <td>1</td>\n",
       "    </tr>\n",
       "    <tr>\n",
       "      <th>9029</th>\n",
       "      <td>congratulations ur awarded 500 cd vouchers 125...</td>\n",
       "      <td>1</td>\n",
       "    </tr>\n",
       "    <tr>\n",
       "      <th>9030</th>\n",
       "      <td>freemsg hi baby wow got new cam moby wanna c h...</td>\n",
       "      <td>1</td>\n",
       "    </tr>\n",
       "    <tr>\n",
       "      <th>9031</th>\n",
       "      <td>knock knock txt whose 80082 enter r weekly dra...</td>\n",
       "      <td>1</td>\n",
       "    </tr>\n",
       "  </tbody>\n",
       "</table>\n",
       "<p>9032 rows × 2 columns</p>\n",
       "</div>"
      ],
      "text/plain": [
       "                                        Cleaned_message  Category\n",
       "0     go jurong point crazy available bugis n great ...         0\n",
       "1                               ok lar joking wif u oni         0\n",
       "2     free entry 2 wkly comp win fa cup final tkts 2...         1\n",
       "3                   u dun say early hor u c already say         0\n",
       "4                nah think goes usf lives around though         0\n",
       "...                                                 ...       ...\n",
       "9027  18 days euro2004 kickoff u kept informed lates...         1\n",
       "9028  urgent 1 week free membership 100 000 prize ja...         1\n",
       "9029  congratulations ur awarded 500 cd vouchers 125...         1\n",
       "9030  freemsg hi baby wow got new cam moby wanna c h...         1\n",
       "9031  knock knock txt whose 80082 enter r weekly dra...         1\n",
       "\n",
       "[9032 rows x 2 columns]"
      ]
     },
     "execution_count": 317,
     "metadata": {},
     "output_type": "execute_result"
    }
   ],
   "source": [
    "data_OS"
   ]
  },
  {
   "cell_type": "code",
   "execution_count": 318,
   "id": "0c594660",
   "metadata": {},
   "outputs": [
    {
     "name": "stderr",
     "output_type": "stream",
     "text": [
      "C:\\Users\\elee0\\anaconda3\\lib\\site-packages\\seaborn\\_decorators.py:36: FutureWarning: Pass the following variable as a keyword arg: x. From version 0.12, the only valid positional argument will be `data`, and passing other arguments without an explicit keyword will result in an error or misinterpretation.\n",
      "  warnings.warn(\n"
     ]
    },
    {
     "data": {
      "text/plain": [
       "<AxesSubplot:xlabel='Category', ylabel='count'>"
      ]
     },
     "execution_count": 318,
     "metadata": {},
     "output_type": "execute_result"
    },
    {
     "data": {
      "image/png": "[encoded data removed]",
      "text/plain": [
       "<Figure size 576x432 with 1 Axes>"
      ]
     },
     "metadata": {
      "needs_background": "light"
     },
     "output_type": "display_data"
    }
   ],
   "source": [
    "plt.figure(figsize=(8,6))\n",
    "sns.countplot(data_OS['Category'])"
   ]
  },
  {
   "cell_type": "markdown",
   "id": "d4de0d09",
   "metadata": {},
   "source": [
    "#### Tokenization with padding"
   ]
  },
  {
   "cell_type": "code",
   "execution_count": 377,
   "id": "f17ef824",
   "metadata": {},
   "outputs": [
    {
     "name": "stdout",
     "output_type": "stream",
     "text": [
      "(9032, 78)\n",
      "(5157, 1)\n"
     ]
    }
   ],
   "source": [
    "num_words = 1000\n",
    "tokenizer = Tokenizer(num_words=num_words, oov_token=\"<OOV>\")\n",
    "tokenizer.fit_on_texts(data_OS['Cleaned_message'])\n",
    "\n",
    "# Word index\n",
    "word_index = tokenizer.word_index\n",
    "\n",
    "# Data into sequence\n",
    "train_seq = tokenizer.texts_to_sequences(data_OS['Cleaned_message'])\n",
    "\n",
    "# Maximum length\n",
    "max_length = max([len(x) for x in train_seq])\n",
    "\n",
    "# Pad the sequence\n",
    "X = pad_sequences(train_seq, padding='post',truncating='post', maxlen=max_length)\n",
    "\n",
    "print(X.shape)\n",
    "print(Y.shape)"
   ]
  },
  {
   "cell_type": "markdown",
   "id": "63bd795e",
   "metadata": {},
   "source": [
    "### Model training"
   ]
  },
  {
   "cell_type": "code",
   "execution_count": 378,
   "id": "40c60346",
   "metadata": {},
   "outputs": [
    {
     "name": "stdout",
     "output_type": "stream",
     "text": [
      "(6774, 78) (6774,)\n",
      "(2258, 78) (2258,)\n"
     ]
    }
   ],
   "source": [
    "# Train test spilit\n",
    "Y = data_OS['Category']\n",
    "X_train, X_test, Y_train, Y_test = train_test_split(X,Y, test_size = 0.25)\n",
    "print(X_train.shape,Y_train.shape)\n",
    "print(X_test.shape,Y_test.shape)"
   ]
  },
  {
   "cell_type": "markdown",
   "id": "7aab93f3",
   "metadata": {},
   "source": [
    "#### CNN (Global average pooling)"
   ]
  },
  {
   "cell_type": "code",
   "execution_count": 466,
   "id": "a070a6d5",
   "metadata": {},
   "outputs": [],
   "source": [
    "model = tensorflow.keras.models.Sequential([\n",
    "    tf.keras.layers.Embedding(num_words,32,input_length=max_length),\n",
    "    tf.keras.layers.GlobalAveragePooling1D(),\n",
    "    tf.keras.layers.Dense(1, activation='sigmoid'),\n",
    "    #tf.keras.layers.BatchNormalization()\n",
    "    ])\n",
    "\n",
    "model.compile(loss='binary_crossentropy', metrics=['accuracy'], optimizer='adam')"
   ]
  },
  {
   "cell_type": "code",
   "execution_count": 468,
   "id": "dd2a1df1",
   "metadata": {},
   "outputs": [
    {
     "name": "stdout",
     "output_type": "stream",
     "text": [
      "Epoch 1/10\n",
      "106/106 [==============================] - 1s 2ms/step - loss: 0.6760 - accuracy: 0.5179 - val_loss: 0.6548 - val_accuracy: 0.6081 - lr: 0.0010\n",
      "Epoch 2/10\n",
      "106/106 [==============================] - 0s 2ms/step - loss: 0.6222 - accuracy: 0.7722 - val_loss: 0.5860 - val_accuracy: 0.9092 - lr: 0.0010\n",
      "Epoch 3/10\n",
      "106/106 [==============================] - 0s 2ms/step - loss: 0.5394 - accuracy: 0.8965 - val_loss: 0.4937 - val_accuracy: 0.9030 - lr: 0.0010\n",
      "Epoch 4/10\n",
      "106/106 [==============================] - 0s 2ms/step - loss: 0.4477 - accuracy: 0.9095 - val_loss: 0.4069 - val_accuracy: 0.9203 - lr: 0.0010\n",
      "Epoch 5/10\n",
      "106/106 [==============================] - 0s 2ms/step - loss: 0.3684 - accuracy: 0.9226 - val_loss: 0.3359 - val_accuracy: 0.9247 - lr: 0.0010\n",
      "Epoch 6/10\n",
      "106/106 [==============================] - 0s 2ms/step - loss: 0.3060 - accuracy: 0.9296 - val_loss: 0.2822 - val_accuracy: 0.9318 - lr: 0.0010\n",
      "Epoch 7/10\n",
      "106/106 [==============================] - 0s 2ms/step - loss: 0.2595 - accuracy: 0.9358 - val_loss: 0.2426 - val_accuracy: 0.9486 - lr: 0.0010\n",
      "Epoch 8/10\n",
      "106/106 [==============================] - 0s 2ms/step - loss: 0.2252 - accuracy: 0.9455 - val_loss: 0.2119 - val_accuracy: 0.9508 - lr: 0.0010\n",
      "Epoch 9/10\n",
      "106/106 [==============================] - 0s 2ms/step - loss: 0.1979 - accuracy: 0.9488 - val_loss: 0.1884 - val_accuracy: 0.9579 - lr: 0.0010\n",
      "Epoch 10/10\n",
      "106/106 [==============================] - 0s 2ms/step - loss: 0.1769 - accuracy: 0.9560 - val_loss: 0.1691 - val_accuracy: 0.9606 - lr: 0.0010\n"
     ]
    }
   ],
   "source": [
    "history = model.fit(X_train, Y_train, epochs=10, batch_size=64,validation_data=(X_test, Y_test),callbacks=[reduceLR])"
   ]
  },
  {
   "cell_type": "code",
   "execution_count": 469,
   "id": "062e0390",
   "metadata": {},
   "outputs": [
    {
     "name": "stdout",
     "output_type": "stream",
     "text": [
      "71/71 [==============================] - 0s 657us/step - loss: 0.1691 - accuracy: 0.9606\n",
      "Test loss: 0.1690620630979538\n",
      "Test accuracy: 0.9605845808982849\n"
     ]
    }
   ],
   "source": [
    "score = model.evaluate(X_test, Y_test)\n",
    "print('Test loss:', score[0])\n",
    "print('Test accuracy:', score[1])"
   ]
  },
  {
   "cell_type": "code",
   "execution_count": 470,
   "id": "1890f145",
   "metadata": {},
   "outputs": [
    {
     "data": {
      "image/png": "[encoded data removed]",
      "text/plain": [
       "<Figure size 432x288 with 1 Axes>"
      ]
     },
     "metadata": {
      "needs_background": "light"
     },
     "output_type": "display_data"
    }
   ],
   "source": [
    "plt.plot(history.history['accuracy'], label='train')\n",
    "plt.plot(history.history['val_accuracy'], label='test')\n",
    "plt.title('model accuracy')\n",
    "plt.ylabel('accuracy')\n",
    "plt.xlabel('epoch')\n",
    "plt.legend()\n",
    "plt.show()"
   ]
  },
  {
   "cell_type": "code",
   "execution_count": 471,
   "id": "ec94934c",
   "metadata": {},
   "outputs": [
    {
     "data": {
      "image/png": "[encoded data removed]",
      "text/plain": [
       "<Figure size 432x288 with 1 Axes>"
      ]
     },
     "metadata": {
      "needs_background": "light"
     },
     "output_type": "display_data"
    }
   ],
   "source": [
    "plt.plot(history.history['loss'], label='train')\n",
    "plt.plot(history.history['val_loss'], label='test')\n",
    "plt.title('Loss')\n",
    "plt.ylabel('loss')\n",
    "plt.xlabel('epoch')\n",
    "plt.legend()\n",
    "plt.show()"
   ]
  },
  {
   "cell_type": "code",
   "execution_count": 472,
   "id": "da010763",
   "metadata": {},
   "outputs": [
    {
     "name": "stdout",
     "output_type": "stream",
     "text": [
      "71/71 [==============================] - 0s 600us/step\n"
     ]
    }
   ],
   "source": [
    "threshold = 0.5\n",
    "\n",
    "result = model.predict(X_test)\n",
    "result = result > threshold\n",
    "result = result.astype(int)"
   ]
  },
  {
   "cell_type": "code",
   "execution_count": 473,
   "id": "5af7e61b",
   "metadata": {},
   "outputs": [
    {
     "name": "stdout",
     "output_type": "stream",
     "text": [
      "              precision    recall  f1-score   support\n",
      "\n",
      "         ham       0.94      0.99      0.96      1129\n",
      "        spam       0.99      0.93      0.96      1129\n",
      "\n",
      "    accuracy                           0.96      2258\n",
      "   macro avg       0.96      0.96      0.96      2258\n",
      "weighted avg       0.96      0.96      0.96      2258\n",
      "\n"
     ]
    }
   ],
   "source": [
    "target_names = ['ham','spam']\n",
    "print(classification_report(Y_test, result, target_names=target_names))"
   ]
  },
  {
   "cell_type": "code",
   "execution_count": 474,
   "id": "cc2ac73a",
   "metadata": {},
   "outputs": [
    {
     "data": {
      "text/html": [
       "<div>\n",
       "<style scoped>\n",
       "    .dataframe tbody tr th:only-of-type {\n",
       "        vertical-align: middle;\n",
       "    }\n",
       "\n",
       "    .dataframe tbody tr th {\n",
       "        vertical-align: top;\n",
       "    }\n",
       "\n",
       "    .dataframe thead th {\n",
       "        text-align: right;\n",
       "    }\n",
       "</style>\n",
       "<table border=\"1\" class=\"dataframe\">\n",
       "  <thead>\n",
       "    <tr style=\"text-align: right;\">\n",
       "      <th></th>\n",
       "      <th>ham</th>\n",
       "      <th>spam</th>\n",
       "    </tr>\n",
       "  </thead>\n",
       "  <tbody>\n",
       "    <tr>\n",
       "      <th>ham</th>\n",
       "      <td>1115</td>\n",
       "      <td>14</td>\n",
       "    </tr>\n",
       "    <tr>\n",
       "      <th>spam</th>\n",
       "      <td>75</td>\n",
       "      <td>1054</td>\n",
       "    </tr>\n",
       "  </tbody>\n",
       "</table>\n",
       "</div>"
      ],
      "text/plain": [
       "       ham  spam\n",
       "ham   1115    14\n",
       "spam    75  1054"
      ]
     },
     "execution_count": 474,
     "metadata": {},
     "output_type": "execute_result"
    }
   ],
   "source": [
    "cm = confusion_matrix(Y_test, result)\n",
    "cm_df = pd.DataFrame(cm,\n",
    "                     index = target_names, \n",
    "                     columns = target_names)\n",
    "cm_df"
   ]
  },
  {
   "cell_type": "markdown",
   "id": "e26971f8",
   "metadata": {},
   "source": [
    "#### RNN "
   ]
  },
  {
   "cell_type": "code",
   "execution_count": 461,
   "id": "95bf85ae",
   "metadata": {},
   "outputs": [],
   "source": [
    "model2 = tensorflow.keras.models.Sequential([\n",
    "    tf.keras.layers.Embedding(num_words,32,input_length=max_length),\n",
    "    tf.keras.layers.SimpleRNN(100),\n",
    "    tf.keras.layers.Dense(1, activation='sigmoid'),\n",
    "    ])\n",
    "\n",
    "model2.compile(loss='binary_crossentropy', metrics=['accuracy'], optimizer='adam')\n",
    "\n",
    "from keras.callbacks import ReduceLROnPlateau\n",
    "reduceLR = ReduceLROnPlateau(monitor='val_accuracy',factor=0.5,patience=3,verbose=0,min_lr=0.0001)"
   ]
  },
  {
   "cell_type": "code",
   "execution_count": 462,
   "id": "81d3b6e8",
   "metadata": {},
   "outputs": [
    {
     "name": "stdout",
     "output_type": "stream",
     "text": [
      "Epoch 1/10\n",
      "106/106 [==============================] - 2s 15ms/step - loss: 0.2825 - accuracy: 0.8962 - val_loss: 0.1313 - val_accuracy: 0.9535 - lr: 0.0010\n",
      "Epoch 2/10\n",
      "106/106 [==============================] - 2s 15ms/step - loss: 0.1811 - accuracy: 0.9339 - val_loss: 0.1280 - val_accuracy: 0.9717 - lr: 0.0010\n",
      "Epoch 3/10\n",
      "106/106 [==============================] - 1s 14ms/step - loss: 0.0625 - accuracy: 0.9836 - val_loss: 0.0463 - val_accuracy: 0.9885 - lr: 0.0010\n",
      "Epoch 4/10\n",
      "106/106 [==============================] - 2s 15ms/step - loss: 0.0433 - accuracy: 0.9870 - val_loss: 0.0512 - val_accuracy: 0.9827 - lr: 0.0010\n",
      "Epoch 5/10\n",
      "106/106 [==============================] - 1s 14ms/step - loss: 0.0389 - accuracy: 0.9895 - val_loss: 0.1069 - val_accuracy: 0.9588 - lr: 0.0010\n",
      "Epoch 6/10\n",
      "106/106 [==============================] - 2s 14ms/step - loss: 0.0452 - accuracy: 0.9875 - val_loss: 0.0679 - val_accuracy: 0.9796 - lr: 0.0010\n",
      "Epoch 7/10\n",
      "106/106 [==============================] - 2s 14ms/step - loss: 0.0236 - accuracy: 0.9941 - val_loss: 0.0396 - val_accuracy: 0.9894 - lr: 5.0000e-04\n",
      "Epoch 8/10\n",
      "106/106 [==============================] - 1s 14ms/step - loss: 0.0193 - accuracy: 0.9950 - val_loss: 0.0518 - val_accuracy: 0.9867 - lr: 5.0000e-04\n",
      "Epoch 9/10\n",
      "106/106 [==============================] - 2s 14ms/step - loss: 0.1341 - accuracy: 0.9644 - val_loss: 0.1196 - val_accuracy: 0.9632 - lr: 5.0000e-04\n",
      "Epoch 10/10\n",
      "106/106 [==============================] - 1s 14ms/step - loss: 0.0384 - accuracy: 0.9901 - val_loss: 0.0413 - val_accuracy: 0.9920 - lr: 5.0000e-04\n"
     ]
    }
   ],
   "source": [
    "history2 = model2.fit(X_train, Y_train, epochs=10, batch_size=64,validation_data=(X_test, Y_test),callbacks=[reduceLR])"
   ]
  },
  {
   "cell_type": "code",
   "execution_count": 475,
   "id": "eff5bb6d",
   "metadata": {},
   "outputs": [
    {
     "name": "stdout",
     "output_type": "stream",
     "text": [
      "Test loss: 0.04130496829748154\n",
      "Test accuracy: 0.9920283555984497\n"
     ]
    }
   ],
   "source": [
    "score2 = model2.evaluate(X_test, Y_test, verbose=0)\n",
    "print('Test loss:', score2[0])\n",
    "print('Test accuracy:', score2[1])"
   ]
  },
  {
   "cell_type": "code",
   "execution_count": 476,
   "id": "575629ca",
   "metadata": {},
   "outputs": [
    {
     "data": {
      "image/png": "[encoded data removed]",
      "text/plain": [
       "<Figure size 432x288 with 1 Axes>"
      ]
     },
     "metadata": {
      "needs_background": "light"
     },
     "output_type": "display_data"
    }
   ],
   "source": [
    "plt.plot(history2.history['accuracy'], label='train')\n",
    "plt.plot(history2.history['val_accuracy'], label='test')\n",
    "plt.title('model accuracy')\n",
    "plt.ylabel('accuracy')\n",
    "plt.xlabel('epoch')\n",
    "plt.legend()\n",
    "plt.show()"
   ]
  },
  {
   "cell_type": "code",
   "execution_count": 477,
   "id": "ee3f9b5e",
   "metadata": {},
   "outputs": [
    {
     "data": {
      "image/png": "[encoded data removed]",
      "text/plain": [
       "<Figure size 432x288 with 1 Axes>"
      ]
     },
     "metadata": {
      "needs_background": "light"
     },
     "output_type": "display_data"
    }
   ],
   "source": [
    "plt.plot(history2.history['loss'], label='train')\n",
    "plt.plot(history2.history['val_loss'], label='test')\n",
    "plt.title('Loss')\n",
    "plt.ylabel('loss')\n",
    "plt.xlabel('epoch')\n",
    "plt.legend()\n",
    "plt.show()"
   ]
  },
  {
   "cell_type": "code",
   "execution_count": 478,
   "id": "a393fd49",
   "metadata": {},
   "outputs": [
    {
     "name": "stdout",
     "output_type": "stream",
     "text": [
      "71/71 [==============================] - 0s 3ms/step\n"
     ]
    }
   ],
   "source": [
    "result2 = model2.predict(X_test)\n",
    "result2 = result2 > threshold\n",
    "result2 = result2.astype(int)"
   ]
  },
  {
   "cell_type": "code",
   "execution_count": 479,
   "id": "acfe7fdc",
   "metadata": {},
   "outputs": [
    {
     "name": "stdout",
     "output_type": "stream",
     "text": [
      "              precision    recall  f1-score   support\n",
      "\n",
      "         ham       1.00      0.99      0.99      1129\n",
      "        spam       0.99      1.00      0.99      1129\n",
      "\n",
      "    accuracy                           0.99      2258\n",
      "   macro avg       0.99      0.99      0.99      2258\n",
      "weighted avg       0.99      0.99      0.99      2258\n",
      "\n"
     ]
    }
   ],
   "source": [
    "target_names = ['ham','spam']\n",
    "print(classification_report(Y_test, result2, target_names=target_names))"
   ]
  },
  {
   "cell_type": "code",
   "execution_count": 480,
   "id": "bb6031d6",
   "metadata": {},
   "outputs": [
    {
     "data": {
      "text/html": [
       "<div>\n",
       "<style scoped>\n",
       "    .dataframe tbody tr th:only-of-type {\n",
       "        vertical-align: middle;\n",
       "    }\n",
       "\n",
       "    .dataframe tbody tr th {\n",
       "        vertical-align: top;\n",
       "    }\n",
       "\n",
       "    .dataframe thead th {\n",
       "        text-align: right;\n",
       "    }\n",
       "</style>\n",
       "<table border=\"1\" class=\"dataframe\">\n",
       "  <thead>\n",
       "    <tr style=\"text-align: right;\">\n",
       "      <th></th>\n",
       "      <th>ham</th>\n",
       "      <th>spam</th>\n",
       "    </tr>\n",
       "  </thead>\n",
       "  <tbody>\n",
       "    <tr>\n",
       "      <th>ham</th>\n",
       "      <td>1114</td>\n",
       "      <td>15</td>\n",
       "    </tr>\n",
       "    <tr>\n",
       "      <th>spam</th>\n",
       "      <td>3</td>\n",
       "      <td>1126</td>\n",
       "    </tr>\n",
       "  </tbody>\n",
       "</table>\n",
       "</div>"
      ],
      "text/plain": [
       "       ham  spam\n",
       "ham   1114    15\n",
       "spam     3  1126"
      ]
     },
     "execution_count": 480,
     "metadata": {},
     "output_type": "execute_result"
    }
   ],
   "source": [
    "cm = confusion_matrix(Y_test, result2)\n",
    "cm_df = pd.DataFrame(cm,\n",
    "                     index = target_names, \n",
    "                     columns = target_names)\n",
    "cm_df"
   ]
  },
  {
   "cell_type": "markdown",
   "id": "0bf28561",
   "metadata": {},
   "source": [
    "### Model evaluation"
   ]
  },
  {
   "cell_type": "code",
   "execution_count": null,
   "id": "098d2da6",
   "metadata": {},
   "outputs": [],
   "source": []
  },
  {
   "cell_type": "code",
   "execution_count": 481,
   "id": "cacab96f",
   "metadata": {},
   "outputs": [],
   "source": [
    "predict = [\"Free entry in 2 a wkly comp to win FA Cup final tkts 21st May 2005. Text FA to 87121 to receive entry question(std txt rate)T&C's apply 08452810075over18's\",\n",
    "          \"RE: Unusual Activity : We've suspend your Pαypαl accοunt due to billing issue.We weren't able to process billing payment due to a problem with your card.This means your account are on hold.To update your Pαypαl account, please verify with link below: http://www.xprswebsite.com/free/usr26/mail/?=44480286You need to take action within 24 hours before account will be suspended.Regards,Pαypαl Teams This info sent from 118.115.129.233\",\n",
    "          \"FRM:PNC.Banking-CALL 8482911330 to confirm SUBJ:#TXT-MSG-8q02# MSG:Did You Attempt a Zelle payment for $43.55 to John  TXT:722\"\n",
    "          ]"
   ]
  },
  {
   "cell_type": "code",
   "execution_count": 482,
   "id": "85dac424",
   "metadata": {},
   "outputs": [
    {
     "name": "stdout",
     "output_type": "stream",
     "text": [
      "1/1 [==============================] - 0s 12ms/step\n",
      "1/1 [==============================] - 0s 13ms/step\n"
     ]
    },
    {
     "data": {
      "text/plain": [
       "(array([[0.9960059 ],\n",
       "        [0.99925864],\n",
       "        [0.93910223]], dtype=float32),\n",
       " array([[0.99689585],\n",
       "        [0.01020772],\n",
       "        [0.94706595]], dtype=float32))"
      ]
     },
     "execution_count": 482,
     "metadata": {},
     "output_type": "execute_result"
    }
   ],
   "source": [
    "def predict_spam(predict):\n",
    "    new_seq = tokenizer.texts_to_sequences(predict)\n",
    "    padded = pad_sequences(new_seq, maxlen =max_length,\n",
    "                      padding = 'post',\n",
    "                      truncating='post')\n",
    "    return (model.predict(padded),model2.predict(padded))\n",
    "predict_spam(predict)"
   ]
  },
  {
   "cell_type": "code",
   "execution_count": null,
   "id": "6684da32",
   "metadata": {},
   "outputs": [],
   "source": []
  }
 ],
 "metadata": {
  "kernelspec": {
   "display_name": "Python 3",
   "language": "python",
   "name": "python3"
  },
  "language_info": {
   "codemirror_mode": {
    "name": "ipython",
    "version": 3
   },
   "file_extension": ".py",
   "mimetype": "text/x-python",
   "name": "python",
   "nbconvert_exporter": "python",
   "pygments_lexer": "ipython3",
   "version": "3.8.8"
  }
 },
 "nbformat": 4,
 "nbformat_minor": 5
}
